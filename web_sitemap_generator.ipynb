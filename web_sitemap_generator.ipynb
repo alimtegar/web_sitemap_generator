{
  "nbformat": 4,
  "nbformat_minor": 0,
  "metadata": {
    "colab": {
      "name": "web-sitemap-generator.ipynb",
      "provenance": [],
      "collapsed_sections": []
    },
    "kernelspec": {
      "name": "python3",
      "display_name": "Python 3"
    },
    "language_info": {
      "name": "python"
    }
  },
  "cells": [
    {
      "cell_type": "code",
      "metadata": {
        "colab": {
          "base_uri": "https://localhost:8080/"
        },
        "id": "id4aCCwnlwaH",
        "outputId": "c36132ca-7955-46ea-8e51-967775a9de65"
      },
      "source": [
        "!pip install requests\n",
        "!pip install beautifulsoup4"
      ],
      "execution_count": 7,
      "outputs": [
        {
          "output_type": "stream",
          "text": [
            "Requirement already satisfied: requests in /usr/local/lib/python3.7/dist-packages (2.23.0)\n",
            "Requirement already satisfied: idna<3,>=2.5 in /usr/local/lib/python3.7/dist-packages (from requests) (2.10)\n",
            "Requirement already satisfied: chardet<4,>=3.0.2 in /usr/local/lib/python3.7/dist-packages (from requests) (3.0.4)\n",
            "Requirement already satisfied: certifi>=2017.4.17 in /usr/local/lib/python3.7/dist-packages (from requests) (2020.12.5)\n",
            "Requirement already satisfied: urllib3!=1.25.0,!=1.25.1,<1.26,>=1.21.1 in /usr/local/lib/python3.7/dist-packages (from requests) (1.24.3)\n",
            "Requirement already satisfied: beautifulsoup4 in /usr/local/lib/python3.7/dist-packages (4.6.3)\n"
          ],
          "name": "stdout"
        }
      ]
    },
    {
      "cell_type": "code",
      "metadata": {
        "colab": {
          "base_uri": "https://localhost:8080/"
        },
        "id": "o6fr8nPRlp6j",
        "outputId": "6d43d7fa-2f0d-4f26-973c-5a13e7432be3"
      },
      "source": [
        "import os\n",
        "import requests\n",
        "from bs4 import BeautifulSoup\n",
        "from urllib.parse import urlparse\n",
        "\n",
        "def format_url(base_url, path):  \n",
        "  if path.startswith('/') or path.startswith('./'):\n",
        "    path = path.split('/', 1)[-1]\n",
        "    return os.path.join(base_url, path)\n",
        "\n",
        "  return path\n",
        "      \n",
        "\n",
        "def generate(url, url_lim, re_lim):\n",
        "  r = requests.get(url)\n",
        "  soup = BeautifulSoup(r.content, 'html.parser')\n",
        "\n",
        "  links = soup.find_all('a')\n",
        "  link_urls = [link.get('href') for link in links]\n",
        "  # Format URLs\n",
        "  link_urls = [format_url(url, link_url) for link_url in filter(None, link_urls)]\n",
        "  # Remove duplidcate URLs\n",
        "  link_urls = list(set(link_urls))\n",
        "\n",
        "  for link_url in link_urls[:url_lim]:\n",
        "    print(url + ' --> ' + link_url)\n",
        "\n",
        "    # Recursive\n",
        "    if re_lim > 0:\n",
        "      generate(link_url, url_lim, re_lim-1)\n",
        "\n",
        "generate('https://translate.google.co.id', 2, 2)"
      ],
      "execution_count": 94,
      "outputs": [
        {
          "output_type": "stream",
          "text": [
            "https://translate.google.co.id --> https://stadia.google.com/\n",
            "https://stadia.google.com/ --> https://www.facebook.com/GoogleStadia/\n",
            "https://www.facebook.com/GoogleStadia/ --> https://www.facebook.com/GoogleStadia/allactivity?privacy_source=activity_log_top_menu\n",
            "https://www.facebook.com/GoogleStadia/ --> https://www.facebook.com/GoogleStadia/fundraisers/\n",
            "https://stadia.google.com/ --> https://store.google.com/product/stadia\n",
            "https://store.google.com/product/stadia --> https://store.google.com/product/stadia/orderhistory?hl=en-US\n",
            "https://store.google.com/product/stadia --> https://store.google.com/product/stadia/product/stadia_reviews\n",
            "https://translate.google.co.id --> https://ads.google.com/home/?subid=ww-ww-et-g-aw-a-vasquette_ads_cons_1!o2\n",
            "https://ads.google.com/home/?subid=ww-ww-et-g-aw-a-vasquette_ads_cons_1!o2 --> https://marketingplatform.google.com/about/analytics/?utm_source=google-growth&utm_medium=referral-internal&utm_campaign=2018-q4-amer-all-gafree-analytics&utm_content=ads-website-footer\n",
            "https://marketingplatform.google.com/about/analytics/?utm_source=google-growth&utm_medium=referral-internal&utm_campaign=2018-q4-amer-all-gafree-analytics&utm_content=ads-website-footer --> https://marketingplatform.google.com/about/analytics/?utm_source=google-growth&utm_medium=referral-internal&utm_campaign=2018-q4-amer-all-gafree-analytics&utm_content=ads-website-footer/about/enterprise/\n",
            "https://marketingplatform.google.com/about/analytics/?utm_source=google-growth&utm_medium=referral-internal&utm_campaign=2018-q4-amer-all-gafree-analytics&utm_content=ads-website-footer --> https://www.google.com/intl/en/policies/terms/\n",
            "https://ads.google.com/home/?subid=ww-ww-et-g-aw-a-vasquette_ads_cons_1!o2 --> https://about.google/intl/en/\n",
            "https://about.google/intl/en/ --> https://crisisresponse.google/\n",
            "https://about.google/intl/en/ --> https://about.google/intl/en/\n"
          ],
          "name": "stdout"
        }
      ]
    }
  ]
}