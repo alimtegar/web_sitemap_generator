{
  "nbformat": 4,
  "nbformat_minor": 0,
  "metadata": {
    "colab": {
      "name": "web_sitemap_generator.ipynb",
      "provenance": [],
      "collapsed_sections": []
    },
    "kernelspec": {
      "name": "python3",
      "display_name": "Python 3"
    },
    "language_info": {
      "name": "python"
    }
  },
  "cells": [
    {
      "cell_type": "code",
      "metadata": {
        "id": "4ZbbJrDkIgRh"
      },
      "source": [
        "import networkx as nx\n",
        "import matplotlib.pyplot as plt    \n",
        "\n",
        "class GraphVisualization:\n",
        "  def __init__(self):      \n",
        "    self.visual = []\n",
        "        \n",
        "  def add_edge(self, a, b):\n",
        "    temp = [a, b]\n",
        "    self.visual.append(temp)\n",
        "        \n",
        "  def visualize(self):\n",
        "    G = nx.DiGraph()\n",
        "    G.add_edges_from(self.visual)\n",
        "\n",
        "    plt.figure(figsize=(8,8))\n",
        "    \n",
        "    # y_off = -0.0\n",
        "    pos = nx.shell_layout(G)\n",
        "    nx.draw_networkx_nodes(G, pos, node_color='aqua')\n",
        "    nx.draw_networkx_edges(G, pos)\n",
        "    nx.draw_networkx_labels(G, pos={k:([v[0], v[1]]) for k,v in pos.items()}, font_size=10)\n",
        "    \n",
        "    plt.show()"
      ],
      "execution_count": 186,
      "outputs": []
    },
    {
      "cell_type": "code",
      "metadata": {
        "id": "o6fr8nPRlp6j"
      },
      "source": [
        "import os\n",
        "import requests\n",
        "from bs4 import BeautifulSoup\n",
        "from urllib.parse import urlparse\n",
        "\n",
        "def format_url(base_url, end_url):  \n",
        "  formatted_url = end_url\n",
        "\n",
        "  if end_url.startswith('./'):\n",
        "    parsed_url = urlparse(base_url)\n",
        "    paths = parsed_url.path.split('/')\n",
        "    new_path = '/'.join(paths[:-1]) + end_url\n",
        "    formatted_url = f'{parsed_url.scheme}://{parsed_url.netloc}{new_path}{parsed_url.query}'\n",
        "\n",
        "  if end_url.startswith('//'):\n",
        "    formatted_url = f'https:{end_url}'\n",
        "  \n",
        "  if end_url.startswith('/'):\n",
        "    parsed_url = urlparse(base_url)\n",
        "    formatted_url = f'{parsed_url.scheme}://{parsed_url.netloc}{end_url}{parsed_url.query}'\n",
        "\n",
        "  if end_url.startswith('?'):\n",
        "    parsed_url = urlparse(base_url)\n",
        "    formatted_url = f'{parsed_url.scheme}://{parsed_url.netloc}{parsed_url.path}{end_url}'\n",
        "\n",
        "  if urlparse(formatted_url).scheme == '':\n",
        "    formatted_url = f'https://{formatted_url}'\n",
        "\n",
        "  return formatted_url.rstrip('/')\n",
        "      \n",
        "def filter_link_urls(link_url):\n",
        "  return link_url is not None and '#' not in link_url\n",
        "\n",
        "def generate_graph(G, urls, url, url_lim, re_lim):\n",
        "  if url not in urls:\n",
        "      urls.append(url)\n",
        "\n",
        "  r = requests.get(url)\n",
        "  soup = BeautifulSoup(r.content, 'html.parser')\n",
        "\n",
        "  links = soup.find_all('a')\n",
        "  link_urls = [link.get('href') for link in links]\n",
        "  # print(link_urls) # Debug\n",
        "  # Format URLs\n",
        "  link_urls = [format_url(url, link_url) for \n",
        "               link_url in \n",
        "               filter(filter_link_urls, link_urls)]\n",
        "  # Remove duplidcate URLs\n",
        "  link_urls = list(set(link_urls))\n",
        "\n",
        "  for link_url in link_urls[:url_lim]:\n",
        "    # print(url + ' --> ' + link_url) # Debug\n",
        "\n",
        "    if link_url not in urls:\n",
        "      urls.append(link_url)\n",
        "\n",
        "    # G.add_edge(url, link_url)\n",
        "    G.add_edge(urls.index(url), urls.index(link_url))\n",
        "\n",
        "    # Recursive\n",
        "    # print(f'{url} ({urlparse(url).netloc}) && {link_url} ({urlparse(link_url).netloc}) --> ', \n",
        "    #       urlparse(url).netloc == urlparse(link_url).netloc) # Debug\n",
        "    if urlparse(link_url).netloc == urlparse(url).netloc and re_lim > 0:\n",
        "      generate_graph(G, urls, link_url, url_lim, re_lim-1)\n",
        "\n",
        "def generate_sitemap(url, url_lim, re_lim):\n",
        "  # Add scheme if no scheme supplied\n",
        "  if urlparse(url).scheme == '':\n",
        "    url = f'https://{url}'\n",
        "\n",
        "  G = GraphVisualization()\n",
        "  urls = []\n",
        "  \n",
        "  generate_graph(G, urls, url, url_lim, re_lim)  \n",
        "  \n",
        "  G.visualize()\n",
        "  print('\\nDaftar URL:')\n",
        "  for k in range(len(urls)):\n",
        "    print(f'{k}. {urls[k]}')"
      ],
      "execution_count": 187,
      "outputs": []
    },
    {
      "cell_type": "code",
      "metadata": {
        "id": "QqAvSHojL9eM"
      },
      "source": [
        "# generate_sitemap(url='https://uny.ac.id', url_lim=5, re_lim=3)"
      ],
      "execution_count": 188,
      "outputs": []
    },
    {
      "cell_type": "code",
      "metadata": {
        "colab": {
          "base_uri": "https://localhost:8080/",
          "height": 670
        },
        "id": "aa5fC8_Fc48w",
        "outputId": "1be9121e-7090-4507-a85f-da07e9f11e53"
      },
      "source": [
        "url = input('URL? ')\n",
        "url_lim = int(input('Berapa banyak URL per halaman diambil? '))\n",
        "re_lim = int(input('Berapa jauh halaman dijelajahi? '))\n",
        "\n",
        "print()\n",
        "generate_sitemap(url, url_lim, re_lim)"
      ],
      "execution_count": 190,
      "outputs": [
        {
          "output_type": "stream",
          "text": [
            "URL? https://github.com\n",
            "Berapa banyak URL per halaman diambil? 3\n",
            "Berapa jauh halaman dijelajahi? 1\n",
            "\n"
          ],
          "name": "stdout"
        },
        {
          "output_type": "display_data",
          "data": {
            "image/png": "[encoded data removed]",
            "text/plain": [
              "<Figure size 576x576 with 1 Axes>"
            ]
          },
          "metadata": {
            "tags": []
          }
        },
        {
          "output_type": "stream",
          "text": [
            "\n",
            "Daftar URL:\n",
            "0. https://github.com\n",
            "1. https://github.community\n",
            "2. https://partner.github.com\n",
            "3. https://github.com/readme\n",
            "4. https://github.com/readme/culture\n",
            "5. https://github.com/readme/podcast\n"
          ],
          "name": "stdout"
        }
      ]
    }
  ]
}
